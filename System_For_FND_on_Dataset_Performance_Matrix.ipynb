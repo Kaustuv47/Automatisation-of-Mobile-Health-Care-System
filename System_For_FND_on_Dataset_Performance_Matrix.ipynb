{
  "cells": [
    {
      "cell_type": "markdown",
      "metadata": {
        "id": "view-in-github",
        "colab_type": "text"
      },
      "source": [
        "<a href=\"https://colab.research.google.com/github/Kaustuv47/Automatisation-of-Mobile-Health-Care-System/blob/master/System_For_FND_on_Dataset_Performance_Matrix.ipynb\" target=\"_parent\"><img src=\"https://colab.research.google.com/assets/colab-badge.svg\" alt=\"Open In Colab\"/></a>"
      ]
    },
    {
      "cell_type": "markdown",
      "metadata": {
        "id": "sZTK3e3AHfXd"
      },
      "source": [
        "## Fake News Classifier Using Bidirectional LSTM\n",
        "\n",
        "Dataset: https://www.kaggle.com/c/fake-news/data#"
      ]
    },
    {
      "cell_type": "markdown",
      "metadata": {
        "id": "gpsDQ_Zl0ceb"
      },
      "source": [
        "Modules"
      ]
    },
    {
      "cell_type": "code",
      "execution_count": null,
      "metadata": {
        "id": "CNumUI5iHfXf"
      },
      "outputs": [],
      "source": [
        "import pandas as pd\n",
        "from google.colab import output\n",
        "from collections import Counter\n",
        "import numpy as np\n",
        "# K-Mean\n",
        "import pandas as pd\n",
        "from sklearn.feature_extraction.text import TfidfVectorizer\n",
        "from sklearn.cluster import KMeans\n",
        "import tensorflow as tf\n",
        "from tensorflow.keras.layers import Embedding\n",
        "from tensorflow.keras.preprocessing.sequence import pad_sequences\n",
        "from tensorflow.keras.models import Sequential\n",
        "from tensorflow.keras.preprocessing.text import one_hot\n",
        "from tensorflow.keras.layers import LSTM\n",
        "from tensorflow.keras.layers import Dense\n",
        "from tensorflow.keras.layers import Bidirectional\n",
        "from tensorflow.keras.layers import Dropout\n",
        "import nltk\n",
        "import re\n",
        "from nltk.corpus import stopwords\n",
        "from nltk.stem.porter import PorterStemmer\n",
        "from sklearn.model_selection import train_test_split\n",
        "from sklearn.metrics import confusion_matrix\n",
        "from sklearn.metrics import accuracy_score\n",
        "from sklearn.metrics import classification_report\n",
        "import warnings\n",
        "from sklearn.metrics import precision_recall_fscore_support\n",
        "import pickle\n",
        "import openpyxl\n",
        "from openpyxl import load_workbook\n",
        "from tensorflow.keras.callbacks import EarlyStopping"
      ]
    },
    {
      "cell_type": "markdown",
      "metadata": {
        "id": "S5Z1L7AR0cT0"
      },
      "source": [
        "Dataset"
      ]
    },
    {
      "cell_type": "code",
      "execution_count": null,
      "metadata": {
        "id": "3xjQW1QqHfXg",
        "colab": {
          "base_uri": "https://localhost:8080/"
        },
        "outputId": "ee97fd05-48d5-4ea0-86fb-f5bd4d5a65ae"
      },
      "outputs": [
        {
          "output_type": "stream",
          "name": "stdout",
          "text": [
            "22724\n"
          ]
        }
      ],
      "source": [
        "sheetUrl = \"https://docs.google.com/spreadsheets/d/1azAfOVkkz42F3V9e0P9N5LHD4YbO5P--CFjIKBIxbEc/edit?usp=sharing\"\n",
        "sheetId = max(sheetUrl.split('/'), key=len)\n",
        "sheetName = 'Train'\n",
        "sheetUrl = \"https://docs.google.com/spreadsheets/d/{}/gviz/tq?tqx=out:csv&sheet={}\".format(sheetId, sheetName)\n",
        "train_spreadsheet = pd.read_csv(sheetUrl)\n",
        "sheetName = 'Test'\n",
        "sheetUrl = \"https://docs.google.com/spreadsheets/d/{}/gviz/tq?tqx=out:csv&sheet={}\".format(sheetId, sheetName)\n",
        "test_spreadsheet = pd.read_csv(sheetUrl)\n",
        "\n",
        "spreadsheet = pd.concat([train_spreadsheet, test_spreadsheet], ignore_index=True)\n",
        "spreadsheet = spreadsheet.drop_duplicates()\n",
        "spreadsheet = spreadsheet.dropna()\n",
        "spreadsheet = spreadsheet.reset_index(drop=True)\n",
        "print(len(spreadsheet))"
      ]
    },
    {
      "cell_type": "code",
      "execution_count": null,
      "metadata": {
        "id": "AIJkeagFAZgC"
      },
      "outputs": [],
      "source": [
        "new_sheet = pd.DataFrame(columns=[\"id\",\t\"title\",\t\"author\",\t\"text\",\t\"label\"])\n",
        "with pd.ExcelWriter('NewDataSheet.xlsx', engine='openpyxl') as writer:\n",
        "  new_sheet.to_excel(writer, sheet_name='Sheet1', index=False)\n",
        "def writetofile(dataframe):\n",
        "  file_path = 'NewDataSheet.xlsx'\n",
        "  wb = load_workbook(file_path)\n",
        "  sheet = wb.active\n",
        "  for _, row in dataframe.iterrows():\n",
        "    sheet.append(row.tolist())\n",
        "  wb.save(file_path)\n",
        "  wb.close()\n",
        "  print(\"Done Writing\")"
      ]
    },
    {
      "cell_type": "code",
      "execution_count": null,
      "metadata": {
        "id": "oZ1_lf3cgTKP"
      },
      "outputs": [],
      "source": [
        "import openpyxl\n",
        "workbook = openpyxl.Workbook()\n",
        "worksheet = workbook.active\n",
        "header = [i for i in range(1, 2)]\n",
        "worksheet.append(['Partition'] + header)\n",
        "workbook.save('Accuracy.xlsx')\n",
        "\n",
        "def write(turn, row_list):\n",
        "  workbook = openpyxl.load_workbook('Accuracy.xlsx')\n",
        "  worksheet = workbook.active\n",
        "  row_size = []\n",
        "  row_accuracy = []\n",
        "  for item in row_list:\n",
        "    row_size.append(item[\"size\"])\n",
        "    row_accuracy.append(item[\"accuracy\"])\n",
        "  worksheet.append([turn] + row_size)\n",
        "  worksheet.append([\"Accuracy\"] + row_accuracy)\n",
        "  workbook.save('Accuracy.xlsx')"
      ]
    },
    {
      "cell_type": "code",
      "execution_count": null,
      "metadata": {
        "id": "Dm18dXntHxz7"
      },
      "outputs": [],
      "source": [
        "class Models:\n",
        "  def __init__(self, grouped_sheet):\n",
        "    # global new_sheet\n",
        "    store_sheet = grouped_sheet\n",
        "    independent_feature = grouped_sheet.drop('label', axis=1)\n",
        "    dependent_feature = grouped_sheet['label']\n",
        "    voc_size=100000\n",
        "    independent_feature.reset_index(inplace=True)\n",
        "    nltk.download('stopwords')\n",
        "    ps = PorterStemmer()\n",
        "    corpus = []\n",
        "    for i in range(0, len(independent_feature)):\n",
        "        review = re.sub('[^a-zA-Z]', ' ', independent_feature['title'][i])\n",
        "        review = review.lower()\n",
        "        review = review.split()\n",
        "        \n",
        "        review = [ps.stem(word) for word in review if not word in stopwords.words('english')]\n",
        "        review = ' '.join(review)\n",
        "        corpus.append(review)\n",
        "    independent_feature = [one_hot(words,voc_size)for words in corpus]\n",
        "    independent_feature[1]\n",
        "    sent_length = 100\n",
        "    embedded_docs = pad_sequences(independent_feature,padding='pre',maxlen=sent_length)\n",
        "    embedding_vector_features=40\n",
        "    model=Sequential()\n",
        "    model.add(Embedding(voc_size,embedding_vector_features,input_length=sent_length))\n",
        "    model.add(Bidirectional(LSTM(100)))\n",
        "    model.add(Dropout(0.3))\n",
        "    model.add(Dense(1,activation='sigmoid'))\n",
        "    model.compile(loss='binary_crossentropy',optimizer='adam',metrics=['accuracy'])\n",
        "\n",
        "    independent_feature_train = np.array(embedded_docs[:-1])\n",
        "    dependent_feature_train = np.array(dependent_feature.iloc[:-1])\n",
        "    independent_feature_test = np.array(embedded_docs[-1:])\n",
        "    dependent_feature_test = np.array([dependent_feature.iloc[-1]])\n",
        "    independent_feature_train.shape, dependent_feature_train.shape\n",
        "    X_final=np.array(embedded_docs)\n",
        "    y_final=np.array(dependent_feature)\n",
        "    independent_feature_train, independent_feature_test, dependent_feature_train, dependent_feature_test = train_test_split(X_final, y_final, test_size=0.33, random_state=42)\n",
        "    early_stopping = EarlyStopping(monitor='val_accuracy', min_delta=0, patience=5, verbose=1, mode='auto', baseline=None, restore_best_weights=False)\n",
        "    model.fit(independent_feature_train, dependent_feature_train, validation_data = (independent_feature_test, dependent_feature_test), epochs=40, batch_size=64, callbacks=[early_stopping])\n",
        "    predict_y = model.predict(independent_feature_test)\n",
        "    y_pred1 = np.argmax(predict_y,axis=1)\n",
        "    self.accuracy = accuracy_score(dependent_feature_test, y_pred1)\n",
        "    if self.accuracy >= 0.80:\n",
        "      store_sheet['id'] = 0\n",
        "      print(\"Writing to file\")\n",
        "      writetofile(store_sheet)\n",
        "\n",
        "  def result(self):\n",
        "    return self.accuracy"
      ]
    },
    {
      "cell_type": "code",
      "execution_count": null,
      "metadata": {
        "id": "bzQ-uge0E4S6"
      },
      "outputs": [],
      "source": [
        "class FNDSystem:\n",
        "  def __init__(self, sheet, clusters):\n",
        "     self.sheet = sheet\n",
        "     self.clusters = clusters\n",
        "  \n",
        "  def kmean_clusterer(self):\n",
        "    paragraph_list = self.sheet['text'].tolist()\n",
        "    vectorizer = TfidfVectorizer(stop_words='english')\n",
        "    vectored_data = vectorizer.fit_transform(paragraph_list)\n",
        "    kmeans = KMeans(n_clusters = self.clusters, random_state = 0).fit(vectored_data)\n",
        "    count_dict = Counter(kmeans.labels_)\n",
        "    # print(kmeans.labels_, count_dict)\n",
        "    return self.grouper(kmeans.labels_)\n",
        "  \n",
        "  def grouper(self, labels):\n",
        "    result_list = []\n",
        "    for index, label in enumerate(labels):\n",
        "      self.sheet.loc[index, 'id'] = label\n",
        "    self.sheet = self.sheet.groupby('id')\n",
        "    for index in range(self.clusters):\n",
        "      size = self.sheet.get_group(list(self.sheet.groups.keys())[index]).shape[0]\n",
        "      model_object = Models(self.sheet.get_group(list(self.sheet.groups.keys())[index]))\n",
        "      result_list.append({\"size\": size, \"accuracy\": model_object.result()})\n",
        "    return result_list"
      ]
    },
    {
      "cell_type": "code",
      "execution_count": null,
      "metadata": {
        "colab": {
          "base_uri": "https://localhost:8080/"
        },
        "id": "fnHlJQGalGgi",
        "outputId": "b0fe5e01-7965-49a0-ca98-73310519c5e1"
      },
      "outputs": [
        {
          "output_type": "stream",
          "name": "stdout",
          "text": [
            "Round 1\n"
          ]
        },
        {
          "output_type": "stream",
          "name": "stderr",
          "text": [
            "/usr/local/lib/python3.10/dist-packages/sklearn/cluster/_kmeans.py:870: FutureWarning: The default value of `n_init` will change from 10 to 'auto' in 1.4. Set the value of `n_init` explicitly to suppress the warning\n",
            "  warnings.warn(\n",
            "[nltk_data] Downloading package stopwords to /root/nltk_data...\n",
            "[nltk_data]   Package stopwords is already up-to-date!\n"
          ]
        },
        {
          "output_type": "stream",
          "name": "stdout",
          "text": [
            "Epoch 1/40\n",
            "238/238 [==============================] - 21s 69ms/step - loss: 0.4357 - accuracy: 0.7974 - val_loss: 0.3424 - val_accuracy: 0.8660\n",
            "Epoch 2/40\n",
            "238/238 [==============================] - 6s 24ms/step - loss: 0.2898 - accuracy: 0.8900 - val_loss: 0.3562 - val_accuracy: 0.8624\n",
            "Epoch 3/40\n",
            "238/238 [==============================] - 4s 17ms/step - loss: 0.2229 - accuracy: 0.9211 - val_loss: 0.3908 - val_accuracy: 0.8513\n",
            "Epoch 4/40\n",
            "238/238 [==============================] - 5s 22ms/step - loss: 0.1697 - accuracy: 0.9404 - val_loss: 0.4456 - val_accuracy: 0.8368\n",
            "Epoch 5/40\n",
            "238/238 [==============================] - 4s 16ms/step - loss: 0.1244 - accuracy: 0.9571 - val_loss: 0.5416 - val_accuracy: 0.8258\n",
            "Epoch 6/40\n",
            "238/238 [==============================] - 4s 16ms/step - loss: 0.0947 - accuracy: 0.9684 - val_loss: 0.5899 - val_accuracy: 0.8224\n",
            "Epoch 6: early stopping\n",
            "235/235 [==============================] - 2s 4ms/step\n",
            "Result [{'size': 22724, 'accuracy': 0.5587411654887319}]\n",
            "Round 2\n"
          ]
        },
        {
          "output_type": "stream",
          "name": "stderr",
          "text": [
            "/usr/local/lib/python3.10/dist-packages/sklearn/cluster/_kmeans.py:870: FutureWarning: The default value of `n_init` will change from 10 to 'auto' in 1.4. Set the value of `n_init` explicitly to suppress the warning\n",
            "  warnings.warn(\n",
            "[nltk_data] Downloading package stopwords to /root/nltk_data...\n",
            "[nltk_data]   Package stopwords is already up-to-date!\n"
          ]
        },
        {
          "output_type": "stream",
          "name": "stdout",
          "text": [
            "Epoch 1/40\n",
            "214/214 [==============================] - 22s 84ms/step - loss: 0.4617 - accuracy: 0.7843 - val_loss: 0.3570 - val_accuracy: 0.8570\n",
            "Epoch 2/40\n",
            "214/214 [==============================] - 5s 22ms/step - loss: 0.3154 - accuracy: 0.8786 - val_loss: 0.3635 - val_accuracy: 0.8597\n",
            "Epoch 3/40\n",
            "214/214 [==============================] - 4s 19ms/step - loss: 0.2456 - accuracy: 0.9107 - val_loss: 0.4355 - val_accuracy: 0.8367\n",
            "Epoch 4/40\n",
            "214/214 [==============================] - 5s 22ms/step - loss: 0.1894 - accuracy: 0.9307 - val_loss: 0.4706 - val_accuracy: 0.8309\n",
            "Epoch 5/40\n",
            "214/214 [==============================] - 4s 18ms/step - loss: 0.1409 - accuracy: 0.9488 - val_loss: 0.5588 - val_accuracy: 0.8196\n",
            "Epoch 6/40\n",
            "214/214 [==============================] - 4s 17ms/step - loss: 0.1039 - accuracy: 0.9632 - val_loss: 0.6398 - val_accuracy: 0.8102\n",
            "Epoch 7/40\n",
            "214/214 [==============================] - 4s 19ms/step - loss: 0.0795 - accuracy: 0.9726 - val_loss: 0.6956 - val_accuracy: 0.7992\n",
            "Epoch 7: early stopping\n",
            "211/211 [==============================] - 2s 5ms/step\n"
          ]
        },
        {
          "output_type": "stream",
          "name": "stderr",
          "text": [
            "[nltk_data] Downloading package stopwords to /root/nltk_data...\n",
            "[nltk_data]   Package stopwords is already up-to-date!\n"
          ]
        },
        {
          "output_type": "stream",
          "name": "stdout",
          "text": [
            "Epoch 1/40\n",
            "25/25 [==============================] - 8s 163ms/step - loss: 0.3574 - accuracy: 0.9265 - val_loss: 0.1975 - val_accuracy: 0.9520\n",
            "Epoch 2/40\n",
            "25/25 [==============================] - 2s 75ms/step - loss: 0.1507 - accuracy: 0.9661 - val_loss: 0.1946 - val_accuracy: 0.9520\n",
            "Epoch 3/40\n",
            "25/25 [==============================] - 2s 86ms/step - loss: 0.1499 - accuracy: 0.9661 - val_loss: 0.1958 - val_accuracy: 0.9520\n",
            "Epoch 4/40\n",
            "25/25 [==============================] - 1s 61ms/step - loss: 0.1464 - accuracy: 0.9661 - val_loss: 0.1871 - val_accuracy: 0.9520\n",
            "Epoch 5/40\n",
            "25/25 [==============================] - 2s 62ms/step - loss: 0.1392 - accuracy: 0.9661 - val_loss: 0.1888 - val_accuracy: 0.9520\n",
            "Epoch 6/40\n",
            "25/25 [==============================] - 1s 55ms/step - loss: 0.1334 - accuracy: 0.9661 - val_loss: 0.1704 - val_accuracy: 0.9520\n",
            "Epoch 6: early stopping\n",
            "25/25 [==============================] - 1s 6ms/step\n",
            "Writing to file\n"
          ]
        },
        {
          "output_type": "stream",
          "name": "stderr",
          "text": [
            "<ipython-input-18-0a1d2e9fbefb>:46: SettingWithCopyWarning: \n",
            "A value is trying to be set on a copy of a slice from a DataFrame.\n",
            "Try using .loc[row_indexer,col_indexer] = value instead\n",
            "\n",
            "See the caveats in the documentation: https://pandas.pydata.org/pandas-docs/stable/user_guide/indexing.html#returning-a-view-versus-a-copy\n",
            "  store_sheet['id'] = 0\n"
          ]
        },
        {
          "output_type": "stream",
          "name": "stdout",
          "text": [
            "Done Writing\n",
            "Result [{'size': 20389, 'accuracy': 0.5124089760737108}, {'size': 2335, 'accuracy': 0.9520103761348897}]\n",
            "Round 3\n"
          ]
        },
        {
          "output_type": "stream",
          "name": "stderr",
          "text": [
            "/usr/local/lib/python3.10/dist-packages/sklearn/cluster/_kmeans.py:870: FutureWarning: The default value of `n_init` will change from 10 to 'auto' in 1.4. Set the value of `n_init` explicitly to suppress the warning\n",
            "  warnings.warn(\n",
            "[nltk_data] Downloading package stopwords to /root/nltk_data...\n",
            "[nltk_data]   Package stopwords is already up-to-date!\n"
          ]
        },
        {
          "output_type": "stream",
          "name": "stdout",
          "text": [
            "Epoch 1/40\n",
            "183/183 [==============================] - 19s 79ms/step - loss: 0.4706 - accuracy: 0.7742 - val_loss: 0.3688 - val_accuracy: 0.8499\n",
            "Epoch 2/40\n",
            "183/183 [==============================] - 6s 34ms/step - loss: 0.3012 - accuracy: 0.8853 - val_loss: 0.3797 - val_accuracy: 0.8482\n",
            "Epoch 3/40\n",
            "183/183 [==============================] - 4s 21ms/step - loss: 0.2338 - accuracy: 0.9165 - val_loss: 0.4317 - val_accuracy: 0.8334\n",
            "Epoch 4/40\n",
            "183/183 [==============================] - 4s 20ms/step - loss: 0.1810 - accuracy: 0.9364 - val_loss: 0.4944 - val_accuracy: 0.8194\n",
            "Epoch 5/40\n",
            "183/183 [==============================] - 3s 17ms/step - loss: 0.1421 - accuracy: 0.9510 - val_loss: 0.5684 - val_accuracy: 0.8060\n",
            "Epoch 6/40\n",
            "183/183 [==============================] - 3s 17ms/step - loss: 0.1128 - accuracy: 0.9618 - val_loss: 0.7040 - val_accuracy: 0.7928\n",
            "Epoch 6: early stopping\n",
            "180/180 [==============================] - 1s 4ms/step\n"
          ]
        },
        {
          "output_type": "stream",
          "name": "stderr",
          "text": [
            "[nltk_data] Downloading package stopwords to /root/nltk_data...\n",
            "[nltk_data]   Package stopwords is already up-to-date!\n"
          ]
        },
        {
          "output_type": "stream",
          "name": "stdout",
          "text": [
            "Epoch 1/40\n",
            "34/34 [==============================] - 9s 157ms/step - loss: 0.5705 - accuracy: 0.7628 - val_loss: 0.5111 - val_accuracy: 0.7837\n",
            "Epoch 2/40\n",
            "34/34 [==============================] - 4s 103ms/step - loss: 0.5086 - accuracy: 0.7624 - val_loss: 0.4537 - val_accuracy: 0.7837\n",
            "Epoch 3/40\n",
            "34/34 [==============================] - 2s 54ms/step - loss: 0.3659 - accuracy: 0.8534 - val_loss: 0.3996 - val_accuracy: 0.8545\n",
            "Epoch 4/40\n",
            "34/34 [==============================] - 2s 52ms/step - loss: 0.2511 - accuracy: 0.9038 - val_loss: 0.4138 - val_accuracy: 0.8469\n",
            "Epoch 5/40\n",
            "34/34 [==============================] - 1s 29ms/step - loss: 0.1855 - accuracy: 0.9321 - val_loss: 0.4851 - val_accuracy: 0.8287\n",
            "Epoch 6/40\n",
            "34/34 [==============================] - 1s 44ms/step - loss: 0.1400 - accuracy: 0.9463 - val_loss: 0.4821 - val_accuracy: 0.8278\n",
            "Epoch 7/40\n",
            "34/34 [==============================] - 1s 25ms/step - loss: 0.1176 - accuracy: 0.9590 - val_loss: 0.5634 - val_accuracy: 0.8144\n",
            "Epoch 8/40\n",
            "34/34 [==============================] - 1s 29ms/step - loss: 0.0887 - accuracy: 0.9670 - val_loss: 0.6931 - val_accuracy: 0.8086\n",
            "Epoch 8: early stopping\n",
            "33/33 [==============================] - 1s 6ms/step\n"
          ]
        },
        {
          "output_type": "stream",
          "name": "stderr",
          "text": [
            "[nltk_data] Downloading package stopwords to /root/nltk_data...\n",
            "[nltk_data]   Package stopwords is already up-to-date!\n"
          ]
        },
        {
          "output_type": "stream",
          "name": "stdout",
          "text": [
            "Epoch 1/40\n",
            "23/23 [==============================] - 8s 210ms/step - loss: 0.3239 - accuracy: 0.9357 - val_loss: 0.1599 - val_accuracy: 0.9670\n",
            "Epoch 2/40\n",
            "23/23 [==============================] - 2s 74ms/step - loss: 0.1383 - accuracy: 0.9710 - val_loss: 0.1469 - val_accuracy: 0.9670\n",
            "Epoch 3/40\n",
            "23/23 [==============================] - 1s 54ms/step - loss: 0.1338 - accuracy: 0.9710 - val_loss: 0.1442 - val_accuracy: 0.9670\n",
            "Epoch 4/40\n",
            "23/23 [==============================] - 2s 81ms/step - loss: 0.1318 - accuracy: 0.9710 - val_loss: 0.1442 - val_accuracy: 0.9670\n",
            "Epoch 5/40\n",
            "23/23 [==============================] - 1s 32ms/step - loss: 0.1303 - accuracy: 0.9710 - val_loss: 0.1426 - val_accuracy: 0.9670\n",
            "Epoch 6/40\n",
            "23/23 [==============================] - 1s 31ms/step - loss: 0.1295 - accuracy: 0.9710 - val_loss: 0.1420 - val_accuracy: 0.9670\n",
            "Epoch 6: early stopping\n",
            "22/22 [==============================] - 1s 6ms/step\n",
            "Writing to file\n"
          ]
        },
        {
          "output_type": "stream",
          "name": "stderr",
          "text": [
            "<ipython-input-18-0a1d2e9fbefb>:46: SettingWithCopyWarning: \n",
            "A value is trying to be set on a copy of a slice from a DataFrame.\n",
            "Try using .loc[row_indexer,col_indexer] = value instead\n",
            "\n",
            "See the caveats in the documentation: https://pandas.pydata.org/pandas-docs/stable/user_guide/indexing.html#returning-a-view-versus-a-copy\n",
            "  store_sheet['id'] = 0\n"
          ]
        },
        {
          "output_type": "stream",
          "name": "stdout",
          "text": [
            "Done Writing\n",
            "Result [{'size': 17446, 'accuracy': 0.5606113233761723}, {'size': 3166, 'accuracy': 0.21626794258373205}, {'size': 2112, 'accuracy': 0.9670014347202296}]\n",
            "Final Model\n"
          ]
        },
        {
          "output_type": "stream",
          "name": "stderr",
          "text": [
            "[nltk_data] Downloading package stopwords to /root/nltk_data...\n",
            "[nltk_data]   Package stopwords is already up-to-date!\n"
          ]
        },
        {
          "output_type": "stream",
          "name": "stdout",
          "text": [
            "Epoch 1/40\n",
            "140/140 [==============================] - 15s 80ms/step - loss: 0.1776 - accuracy: 0.9601 - val_loss: 0.1389 - val_accuracy: 0.9637\n",
            "Epoch 2/40\n",
            "140/140 [==============================] - 4s 25ms/step - loss: 0.0675 - accuracy: 0.9794 - val_loss: 0.0311 - val_accuracy: 0.9902\n",
            "Epoch 3/40\n",
            "140/140 [==============================] - 4s 26ms/step - loss: 0.0145 - accuracy: 0.9966 - val_loss: 0.0178 - val_accuracy: 0.9957\n",
            "Epoch 4/40\n",
            "140/140 [==============================] - 3s 18ms/step - loss: 0.0048 - accuracy: 0.9990 - val_loss: 0.0027 - val_accuracy: 0.9993\n",
            "Epoch 5/40\n",
            "140/140 [==============================] - 2s 18ms/step - loss: 0.0035 - accuracy: 0.9991 - val_loss: 0.0028 - val_accuracy: 0.9993\n",
            "Epoch 6/40\n",
            "140/140 [==============================] - 2s 16ms/step - loss: 0.0017 - accuracy: 0.9997 - val_loss: 0.0015 - val_accuracy: 0.9998\n",
            "Epoch 7/40\n",
            "140/140 [==============================] - 3s 20ms/step - loss: 7.7882e-04 - accuracy: 0.9998 - val_loss: 0.0011 - val_accuracy: 0.9998\n",
            "Epoch 8/40\n",
            "140/140 [==============================] - 3s 18ms/step - loss: 9.0678e-04 - accuracy: 0.9997 - val_loss: 0.0012 - val_accuracy: 0.9998\n",
            "Epoch 9/40\n",
            "140/140 [==============================] - 2s 16ms/step - loss: 6.5717e-04 - accuracy: 0.9999 - val_loss: 0.0026 - val_accuracy: 0.9986\n",
            "Epoch 10/40\n",
            "140/140 [==============================] - 2s 16ms/step - loss: 8.4954e-04 - accuracy: 0.9997 - val_loss: 9.3716e-04 - val_accuracy: 0.9998\n",
            "Epoch 11/40\n",
            "140/140 [==============================] - 2s 18ms/step - loss: 7.5930e-04 - accuracy: 0.9996 - val_loss: 8.6517e-04 - val_accuracy: 0.9998\n",
            "Epoch 11: early stopping\n",
            "138/138 [==============================] - 1s 5ms/step\n",
            "Writing to file\n",
            "Done Writing\n",
            "Result [{'size': 13341, 'accuracy': 0.9636611401317283}]\n"
          ]
        }
      ],
      "source": [
        "for turn in range(1, 4):\n",
        "  print(\"Round\", turn)\n",
        "  FND_object = FNDSystem(spreadsheet, turn)\n",
        "  result_list = FND_object.kmean_clusterer()\n",
        "  write(turn, result_list)\n",
        "  print(\"Result\", result_list)\n",
        "  del FND_object\n",
        "# writetofile()\n",
        "print(\"Final Model\")\n",
        "file_path = 'NewDataSheet.xlsx'\n",
        "newSheet = pd.read_excel(file_path)\n",
        "final_model = Models(newSheet)\n",
        "write(\"Final\", [{\"size\": newSheet.shape[0], \"accuracy\": final_model.result()}])\n",
        "print(\"Result\", [{\"size\": newSheet.shape[0], \"accuracy\": final_model.result()}])"
      ]
    },
    {
      "cell_type": "code",
      "execution_count": null,
      "metadata": {
        "id": "uMvNo4IIHfX3"
      },
      "outputs": [],
      "source": [
        "print(classification_report(dependent_feature_test,y_pred1))"
      ]
    },
    {
      "cell_type": "code",
      "execution_count": null,
      "metadata": {
        "id": "XpOEax-rUCwU"
      },
      "outputs": [],
      "source": [
        "  warnings.filterwarnings('always')\n",
        "metrics.f1_score(y_test, y_pred, average='weighted', labels=np.unique(y_pred))"
      ]
    },
    {
      "cell_type": "code",
      "execution_count": null,
      "metadata": {
        "id": "QKaNoOLRzpUb"
      },
      "outputs": [],
      "source": [
        "precision, recall, f1_score, support = precision_recall_fscore_support(dependent_feature_test, y_pred1, zero_division='warn')"
      ]
    }
  ],
  "metadata": {
    "accelerator": "GPU",
    "colab": {
      "provenance": [],
      "gpuType": "T4",
      "include_colab_link": true
    },
    "gpuClass": "standard",
    "kernelspec": {
      "display_name": "Python 3",
      "language": "python",
      "name": "python3"
    },
    "language_info": {
      "codemirror_mode": {
        "name": "ipython",
        "version": 3
      },
      "file_extension": ".py",
      "mimetype": "text/x-python",
      "name": "python",
      "nbconvert_exporter": "python",
      "pygments_lexer": "ipython3",
      "version": "3.6.9"
    }
  },
  "nbformat": 4,
  "nbformat_minor": 0
}